{
 "cells": [
  {
   "cell_type": "markdown",
   "id": "eeeabc21-17fd-4ffe-b3bd-213d71fac034",
   "metadata": {},
   "source": [
    "# Python Tutorial in Jupyter"
   ]
  },
  {
   "cell_type": "code",
   "execution_count": 1,
   "id": "01e8be2f-6c4c-4e0e-a520-abf01e81ea66",
   "metadata": {},
   "outputs": [
    {
     "name": "stdout",
     "output_type": "stream",
     "text": [
      "Test Case 1\n"
     ]
    }
   ],
   "source": [
    "print(\"Test Case 1\")"
   ]
  },
  {
   "cell_type": "code",
   "execution_count": 2,
   "id": "1d81bcd9-2875-4083-891e-e381d4abc5d7",
   "metadata": {},
   "outputs": [
    {
     "name": "stdout",
     "output_type": "stream",
     "text": [
      "Five is greater than two !\n"
     ]
    }
   ],
   "source": [
    "if 5 >2:\n",
    "    print (\"Five is greater than two !\")"
   ]
  },
  {
   "cell_type": "code",
   "execution_count": 3,
   "id": "5fa70bd0-c9fd-476f-b660-0681973ed561",
   "metadata": {},
   "outputs": [
    {
     "name": "stdout",
     "output_type": "stream",
     "text": [
      "Single Line Comment\n"
     ]
    }
   ],
   "source": [
    "#This is a single-line comment\n",
    "print (\"Single Line Comment\")"
   ]
  },
  {
   "cell_type": "code",
   "execution_count": 4,
   "id": "1341f89b-a516-4c9a-8d15-3405c39d5ace",
   "metadata": {},
   "outputs": [
    {
     "name": "stdout",
     "output_type": "stream",
     "text": [
      "Multi-line Comment\n"
     ]
    }
   ],
   "source": [
    "\"\"\"\n",
    "This is a multi-line comment. \n",
    "can be note for each section\n",
    "\"\"\"\n",
    "\n",
    "print (\"Multi-line Comment\")"
   ]
  },
  {
   "cell_type": "code",
   "execution_count": 7,
   "id": "0a75eeb6-3966-47da-b76a-00b2e261510f",
   "metadata": {},
   "outputs": [
    {
     "name": "stdout",
     "output_type": "stream",
     "text": [
      "Alice\n",
      "Name: Alice  Age: 30\n",
      "Python is awesone\n"
     ]
    }
   ],
   "source": [
    "name =\"Alice\"\n",
    "age = 30\n",
    "\n",
    "#Simple Output\n",
    "print (name) #Output: Alice\n",
    "\n",
    "#Combining text and varaible\n",
    "print (\"Name:\", name, \" Age:\", age)\n",
    "\n",
    "# Concatenating strings\n",
    "x = \"Python is \"\n",
    "y = \"awesone\"\n",
    "z = x+ y\n",
    "print (z)\n"
   ]
  },
  {
   "cell_type": "markdown",
   "id": "9c074abc-1e63-40db-ad33-0455f9b68615",
   "metadata": {},
   "source": [
    "## Indentation"
   ]
  },
  {
   "cell_type": "code",
   "execution_count": 8,
   "id": "5b3dd166-532e-4053-9dce-0d6380c65c36",
   "metadata": {},
   "outputs": [
    {
     "name": "stdout",
     "output_type": "stream",
     "text": [
      "NO!\n"
     ]
    }
   ],
   "source": [
    "x = 3\n",
    "\n",
    "if x < 3:\n",
    "    print (\"YES\")\n",
    "else:\n",
    "    print (\"NO!\")\n",
    "    "
   ]
  },
  {
   "cell_type": "code",
   "execution_count": 9,
   "id": "f1a75e2f-a95d-44f2-8a6f-d99004895c5a",
   "metadata": {},
   "outputs": [],
   "source": [
    "#integer\n",
    "age = 25\n",
    "\n",
    "#float\n",
    "temperature = 25.5\n",
    "\n",
    "#string\n",
    "greet = \"Sejahtera\""
   ]
  },
  {
   "cell_type": "code",
   "execution_count": 10,
   "id": "ab65e42a-7a97-490f-af90-ba01c4a9179e",
   "metadata": {},
   "outputs": [
    {
     "name": "stdout",
     "output_type": "stream",
     "text": [
      "Age: 25\n",
      "Temperature: 25.5\n",
      "Greet: Sejahtera\n"
     ]
    }
   ],
   "source": [
    "print (\"Age:\",age)\n",
    "print (\"Temperature:\", temperature)\n",
    "print (\"Greet:\", greet)"
   ]
  },
  {
   "cell_type": "code",
   "execution_count": 11,
   "id": "272fd35a-63c2-42c1-aef4-2f1bdd468305",
   "metadata": {},
   "outputs": [
    {
     "name": "stdout",
     "output_type": "stream",
     "text": [
      "<class 'int'>\n",
      "<class 'float'>\n",
      "<class 'str'>\n"
     ]
    }
   ],
   "source": [
    "#get the data type by code\n",
    "print (type(age))\n",
    "print (type(temperature))\n",
    "print (type(greet))"
   ]
  },
  {
   "cell_type": "markdown",
   "id": "dda44b1e-63ca-42c7-8c31-a92c3938fb1a",
   "metadata": {},
   "source": [
    " ## User Input (Prompting)"
   ]
  },
  {
   "cell_type": "code",
   "execution_count": 14,
   "id": "4705fc50-4a04-4b18-9599-78aa8e8cc865",
   "metadata": {},
   "outputs": [
    {
     "name": "stdin",
     "output_type": "stream",
     "text": [
      "How old are you? 31\n",
      "How tall are you? 155 cm\n",
      "How much do you weigh? n kg\n"
     ]
    },
    {
     "name": "stdout",
     "output_type": "stream",
     "text": [
      "So, you're 31 years old, 155 cm tall, and n kg heavy.\n"
     ]
    }
   ],
   "source": [
    "\n",
    "age = input (\"How old are you?\")\n",
    "height = input (\"How tall are you?\")\n",
    "weight = input (\"How much do you weigh?\")\n",
    "\n",
    "print(f\"So, you're {age} years old, {height} tall, and {weight} heavy.\")"
   ]
  },
  {
   "cell_type": "code",
   "execution_count": 16,
   "id": "0be437ca-0e93-4ccd-8ee7-0fb9500617d1",
   "metadata": {},
   "outputs": [
    {
     "name": "stdout",
     "output_type": "stream",
     "text": [
      "So your age is 31, height is 155 cm, weight is n kg\n"
     ]
    }
   ],
   "source": [
    "print(\"So your age is {}, height is {}, weight is {}\".format(age,height,weight))"
   ]
  },
  {
   "cell_type": "markdown",
   "id": "36e7ca5b-9847-436a-be47-5ba1118a946a",
   "metadata": {},
   "source": [
    "## Lists, Tuples and Dictonaries"
   ]
  },
  {
   "cell_type": "code",
   "execution_count": 19,
   "id": "d4c38cf3-5cd2-4740-811f-af98267bd7ff",
   "metadata": {},
   "outputs": [
    {
     "name": "stdout",
     "output_type": "stream",
     "text": [
      "apple\n",
      "['apple', 'blueberry', 'cherry']\n"
     ]
    }
   ],
   "source": [
    "\"\"\" Lists: used for dynamic input\n",
    "    Ordered, Items can be different types. \n",
    "\"\"\"\n",
    "fruits = [\"apple\", \"orange\", \"cherry\"]\n",
    "print (fruits[0])\n",
    "\n",
    "fruits [1] = \"blueberry\"\n",
    "print (fruits)"
   ]
  },
  {
   "cell_type": "code",
   "execution_count": 20,
   "id": "989eea65-c027-4fad-97b6-917b0eb6eb7b",
   "metadata": {},
   "outputs": [
    {
     "name": "stdout",
     "output_type": "stream",
     "text": [
      "10\n"
     ]
    }
   ],
   "source": [
    "\"\"\"Tuples: Ordered, immutable collections of item (cannot change values) \"\"\"\n",
    "coordinates = (10,20)\n",
    "print(coordinates [0])"
   ]
  },
  {
   "cell_type": "code",
   "execution_count": 21,
   "id": "e9d62fad-9dc6-4bea-9f86-7dc27e922fcd",
   "metadata": {},
   "outputs": [
    {
     "name": "stdout",
     "output_type": "stream",
     "text": [
      "Alice\n",
      "{'name': 'Alice', 'age': 26}\n"
     ]
    }
   ],
   "source": [
    "\"\"\"\"Dictionaries: unordered collections.\"\"\"\n",
    "person = {\"name\":\"Alice\",\"age\":25}\n",
    "print (person [\"name\"])\n",
    "\n",
    "#changing the value\n",
    "person [\"age\"] = 26\n",
    "print(person)"
   ]
  },
  {
   "cell_type": "markdown",
   "id": "6b3d8d4b-8be5-4e9d-b0dc-12efe550f354",
   "metadata": {},
   "source": [
    "## Functions"
   ]
  },
  {
   "cell_type": "code",
   "execution_count": 24,
   "id": "1668292d-e8f7-4e5a-b73e-66bcf15d240f",
   "metadata": {},
   "outputs": [
    {
     "name": "stdout",
     "output_type": "stream",
     "text": [
      "15\n",
      "25\n",
      "45\n"
     ]
    }
   ],
   "source": [
    "def mutiply(x):\n",
    "    return 5 * x\n",
    "\n",
    "print(mutiply(3))\n",
    "print(mutiply(5))\n",
    "print(mutiply(9))\n"
   ]
  },
  {
   "cell_type": "code",
   "execution_count": 25,
   "id": "b9b2e922-7d20-4c4f-91f2-6aecc778bd0c",
   "metadata": {},
   "outputs": [
    {
     "name": "stdout",
     "output_type": "stream",
     "text": [
      "15\n"
     ]
    }
   ],
   "source": [
    "def add(x,y):\n",
    "    return x + y\n",
    "\n",
    "print(add(5,10))"
   ]
  },
  {
   "cell_type": "code",
   "execution_count": null,
   "id": "73a293d0-0a34-41a1-8d25-410e5fc7eec8",
   "metadata": {},
   "outputs": [],
   "source": []
  }
 ],
 "metadata": {
  "kernelspec": {
   "display_name": "Python 3 (ipykernel)",
   "language": "python",
   "name": "python3"
  },
  "language_info": {
   "codemirror_mode": {
    "name": "ipython",
    "version": 3
   },
   "file_extension": ".py",
   "mimetype": "text/x-python",
   "name": "python",
   "nbconvert_exporter": "python",
   "pygments_lexer": "ipython3",
   "version": "3.10.12"
  }
 },
 "nbformat": 4,
 "nbformat_minor": 5
}
